{
 "cells": [
  {
   "cell_type": "code",
   "execution_count": 1,
   "metadata": {},
   "outputs": [],
   "source": [
    "import os\n",
    "\n",
    "import pandas as pd\n",
    "from matplotlib import pyplot as plt\n",
    "from sklearn import linear_model, metrics\n"
   ]
  },
  {
   "cell_type": "markdown",
   "metadata": {},
   "source": [
    "# Linear Regression\n"
   ]
  },
  {
   "cell_type": "code",
   "execution_count": 2,
   "metadata": {},
   "outputs": [
    {
     "name": "stdout",
     "output_type": "stream",
     "text": [
      "Mean Absolute Error: 0.034299500178090664\n",
      "Mean Squared Error: 0.0022630619178326664\n",
      "R-Squared: -1.2471042787776807\n"
     ]
    },
    {
     "data": {
      "text/plain": [
       "[<matplotlib.lines.Line2D at 0x25b022644f0>]"
      ]
     },
     "execution_count": 2,
     "metadata": {},
     "output_type": "execute_result"
    },
    {
     "data": {
      "image/png": "[encoded data removed]",
      "text/plain": [
       "<Figure size 432x288 with 1 Axes>"
      ]
     },
     "metadata": {
      "needs_background": "light"
     },
     "output_type": "display_data"
    }
   ],
   "source": [
    "HYPER_max_pad = 15\n",
    "\n",
    "os.makedirs(\"./results/stats\", exist_ok=True)\n",
    "categorical_vars = list()\n",
    "for i in range(HYPER_max_pad):\n",
    "    categorical_vars.extend(list())\n",
    "\n",
    "X_train = pd.read_csv(\n",
    "    f\"./results/splits/X_train_padded_translated.csv\",\n",
    "    dtype={k: \"category\" for k in categorical_vars},\n",
    ")\n",
    "y_train = pd.read_csv(f\"./results/splits/y_train.csv\")\n",
    "X_test = pd.read_csv(\n",
    "    f\"./results/splits/X_test_padded_translated.csv\",\n",
    "    dtype={k: \"category\" for k in categorical_vars},\n",
    ")\n",
    "y_test = pd.read_csv(f\"./results/splits/y_test.csv\")\n",
    "\n",
    "# drop useless columns (both X_train and X_test have the same columns)\n",
    "cols_to_drop = list()\n",
    "for col in X_train.columns:\n",
    "    if \"Batch\" in col:  # remove all \"Batch_N\"\n",
    "        cols_to_drop.append(col)\n",
    "\n",
    "X_train.drop(cols_to_drop, axis=1, inplace=True)\n",
    "X_test.drop(cols_to_drop, axis=1, inplace=True)\n",
    "model = linear_model.LinearRegression(n_jobs=-1)\n",
    "model.fit(X_train, y_train.values.ravel())\n",
    "\n",
    "y_predicted = model.predict(X_test)\n",
    "\n",
    "print(f\"Mean Absolute Error: {metrics.mean_absolute_error(y_test, y_predicted)}\")\n",
    "print(f\"Mean Squared Error: {metrics.mean_squared_error(y_test, y_predicted)}\")\n",
    "print(f\"R-Squared: {metrics.r2_score(y_test, y_predicted)}\")\n",
    "plt.scatter(y_predicted, y_test)\n",
    "plt.plot([y_test.min(), y_test.max()], [y_test.min(), y_test.max()], \"r--\", lw=3)\n"
   ]
  }
 ],
 "metadata": {
  "interpreter": {
   "hash": "bddf87d3d8ffc9ffe643d1c63ef98549d54d18316b6f1377644eea2ca2a14d20"
  },
  "kernelspec": {
   "display_name": "Python 3.9.5 64-bit ('.venv': venv)",
   "name": "python3"
  },
  "language_info": {
   "codemirror_mode": {
    "name": "ipython",
    "version": 3
   },
   "file_extension": ".py",
   "mimetype": "text/x-python",
   "name": "python",
   "nbconvert_exporter": "python",
   "pygments_lexer": "ipython3",
   "version": "3.9.5"
  },
  "orig_nbformat": 4
 },
 "nbformat": 4,
 "nbformat_minor": 2
}
