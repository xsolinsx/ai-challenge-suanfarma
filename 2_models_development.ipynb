{
 "cells": [
  {
   "cell_type": "code",
   "execution_count": 1,
   "source": [
    "import os\r\n",
    "\r\n",
    "import pandas as pd\r\n",
    "from matplotlib import pyplot as plt\r\n",
    "from sklearn import linear_model, metrics\r\n"
   ],
   "outputs": [],
   "metadata": {}
  },
  {
   "cell_type": "markdown",
   "source": [
    "# Linear Regression\r\n"
   ],
   "metadata": {}
  },
  {
   "cell_type": "code",
   "execution_count": 24,
   "source": [
    "HYPER_max_pad = 15\r\n",
    "\r\n",
    "os.makedirs(\"./results/stats\", exist_ok=True)\r\n",
    "categorical_vars = list()\r\n",
    "for i in range(HYPER_max_pad):\r\n",
    "    categorical_vars.extend(list())\r\n",
    "\r\n",
    "X_train = pd.read_csv(\r\n",
    "    f\"./results/splits/X_train_padded_translated.csv\",\r\n",
    "    dtype={k: \"category\" for k in categorical_vars},\r\n",
    ")\r\n",
    "y_train = pd.read_csv(f\"./results/splits/y_train.csv\")\r\n",
    "X_test = pd.read_csv(\r\n",
    "    f\"./results/splits/X_test_padded_translated.csv\",\r\n",
    "    dtype={k: \"category\" for k in categorical_vars},\r\n",
    ")\r\n",
    "y_test = pd.read_csv(f\"./results/splits/y_test.csv\")\r\n",
    "\r\n",
    "# drop useless columns (both X_train and X_test have the same columns)\r\n",
    "cols_to_drop = list()\r\n",
    "for col in X_train.columns:\r\n",
    "    if \"Batch\" in col:  # remove all \"Batch_N\"\r\n",
    "        cols_to_drop.append(col)\r\n",
    "\r\n",
    "X_train.drop(cols_to_drop, axis=1, inplace=True)\r\n",
    "X_test.drop(cols_to_drop, axis=1, inplace=True)\r\n",
    "model = linear_model.LinearRegression(n_jobs=-1)\r\n",
    "model.fit(X_train, y_train.values.ravel())\r\n",
    "\r\n",
    "y_predicted = model.predict(X_test)\r\n",
    "\r\n",
    "print(f\"Mean Absolute Error: {metrics.mean_absolute_error(y_test, y_predicted)}\")\r\n",
    "print(f\"Mean Squared Error: {metrics.mean_squared_error(y_test, y_predicted)}\")\r\n",
    "print(f\"R-Squared: {metrics.r2_score(y_test, y_predicted)}\")\r\n",
    "plt.scatter(y_predicted, y_test)\r\n",
    "plt.plot([y_test.min(), y_test.max()], [y_test.min(), y_test.max()], \"r--\", lw=3)\r\n"
   ],
   "outputs": [
    {
     "output_type": "stream",
     "name": "stdout",
     "text": [
      "Mean Absolute Error: 0.051725120142805336\n",
      "Mean Squared Error: 0.0032967949148112402\n",
      "R-Squared: -0.8142183557589102\n"
     ]
    },
    {
     "output_type": "execute_result",
     "data": {
      "text/plain": [
       "[<matplotlib.lines.Line2D at 0x24e54d11700>]"
      ]
     },
     "metadata": {},
     "execution_count": 24
    },
    {
     "output_type": "display_data",
     "data": {
      "image/png": "[encoded data removed]",
      "text/plain": [
       "<Figure size 432x288 with 1 Axes>"
      ]
     },
     "metadata": {
      "needs_background": "light"
     }
    }
   ],
   "metadata": {}
  }
 ],
 "metadata": {
  "orig_nbformat": 4,
  "language_info": {
   "name": "python",
   "version": "3.9.7",
   "mimetype": "text/x-python",
   "codemirror_mode": {
    "name": "ipython",
    "version": 3
   },
   "pygments_lexer": "ipython3",
   "nbconvert_exporter": "python",
   "file_extension": ".py"
  },
  "kernelspec": {
   "name": "python3",
   "display_name": "Python 3.9.7 64-bit ('.venv': venv)"
  },
  "interpreter": {
   "hash": "bddf87d3d8ffc9ffe643d1c63ef98549d54d18316b6f1377644eea2ca2a14d20"
  }
 },
 "nbformat": 4,
 "nbformat_minor": 2
}