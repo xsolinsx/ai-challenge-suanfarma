{
 "cells": [
  {
   "cell_type": "markdown",
   "source": [
    "This notebook's sole focus is to find the insights from the metadata file given by SUANfarma"
   ],
   "metadata": {}
  },
  {
   "cell_type": "code",
   "execution_count": 86,
   "source": [
    "from tqdm import tqdm\n",
    "import pandas as pd\n",
    "pd.set_option('display.float_format', lambda x: '%.5f' % x)"
   ],
   "outputs": [],
   "metadata": {}
  },
  {
   "cell_type": "code",
   "execution_count": 90,
   "source": [
    "def udf_describe(df):\n",
    "    desc_df = df.describe(include = 'all')\n",
    "    desc_df.loc['dtype'] = df.dtypes\n",
    "    desc_df.loc['size'] = len(df)\n",
    "    desc_df.loc['perc_null'] = df.isnull().mean()*100\n",
    "    return desc_df\n",
    "    \n",
    "def udf_drop_duplicate_columns(df):\n",
    "    duplicate_cols = []\n",
    "    for i in tqdm(df.columns):\n",
    "        for j in df.columns:\n",
    "            if ((str(i) != str(j)) & (df[i].equals(df[j]))):\n",
    "                if (i not in duplicate_cols):\n",
    "                    duplicate_cols.append(j)\n",
    "    print(\"The following are duplicate columns which will be removed : \\n\", duplicate_cols)\n",
    "    return df.drop(columns = duplicate_cols)\n"
   ],
   "outputs": [],
   "metadata": {}
  },
  {
   "cell_type": "code",
   "execution_count": 91,
   "source": [
    "df = pd.read_excel('../../../data/input/11_Dataset/produzione_CStOA_2021_ed12.xlsx', sheet_name=\"dati-produzione\", header=1)\n",
    "# Remove constants\n",
    "df.drop(columns = df.loc[:, df.nunique() == 1].columns.values, inplace=True)\n",
    "# Remove NaN columns\n",
    "df.dropna(axis=1,how='all', inplace= True)\n",
    "# Remove rows where id is null\n",
    "df.dropna(subset=['O.D.P.'], how='all', inplace=True)\n",
    "df.insert(0, 'id', df['O.D.P.'].astype(int).astype(str).str[-4:])\n",
    "df.drop(columns= [\"N°\", \"O.D.P.\"], inplace= True)\n",
    "print(df.shape)\n",
    "df = udf_drop_duplicate_columns(df)"
   ],
   "outputs": [
    {
     "output_type": "stream",
     "name": "stdout",
     "text": [
      "(206, 117)\n"
     ]
    },
    {
     "output_type": "stream",
     "name": "stderr",
     "text": [
      "100%|██████████| 117/117 [00:00<00:00, 841.65it/s]"
     ]
    },
    {
     "output_type": "stream",
     "name": "stdout",
     "text": [
      "The following are duplicate columns which will be removed : \n",
      " ['6ª  Crist.                 Tag']\n"
     ]
    },
    {
     "output_type": "stream",
     "name": "stderr",
     "text": [
      "\n"
     ]
    }
   ],
   "metadata": {}
  },
  {
   "cell_type": "code",
   "execution_count": 92,
   "source": [
    "cols = df.columns\n",
    "cols = [w.replace('  ', ' ') for w in cols]\n",
    "cols = [w.replace('  ', ' ') for w in cols]\n",
    "cols = [w.replace('  ', ' ') for w in cols]\n",
    "cols = [w.replace('  ', ' ') for w in cols]\n",
    "cols = [w.replace('  ', ' ') for w in cols]\n",
    "cols = [w.replace('  ', ' ') for w in cols]\n",
    "cols = [w.replace('Pc n°', 'PCN') for w in cols]\n",
    "cols = [w.replace(' (', '(') for w in cols]\n",
    "cols = [w.replace(') ', ')') for w in cols]\n",
    "cols = [w.replace('( ', '(') for w in cols]\n",
    "cols = [w.replace(' )', ')') for w in cols]\n",
    "cols = [w.replace(' ', '_') for w in cols]\n",
    "cols = [w.replace('.', '') for w in cols]\n",
    "cols = [w.replace('ª', '') for w in cols]\n",
    "cols = [w.replace('°', '') for w in cols]\n",
    "cols = [w.replace('__', '_') for w in cols]\n",
    "df.columns = cols"
   ],
   "outputs": [],
   "metadata": {}
  },
  {
   "cell_type": "code",
   "execution_count": 98,
   "source": [
    "df_desc = udf_describe(df).T\n",
    "df_desc.loc[df_desc['perc_null'] > 10].shape"
   ],
   "outputs": [
    {
     "output_type": "stream",
     "name": "stderr",
     "text": [
      "/var/folders/6s/f25fqpzn1y55r8yt0d82xjlr0000gn/T/ipykernel_26544/3682048969.py:2: FutureWarning: Treating datetime data as categorical rather than numeric in `.describe` is deprecated and will be removed in a future version of pandas. Specify `datetime_is_numeric=True` to silence this warning and adopt the future behavior now.\n",
      "  desc_df = df.describe(include = 'all')\n"
     ]
    },
    {
     "output_type": "execute_result",
     "data": {
      "text/plain": [
       "(33, 16)"
      ]
     },
     "metadata": {},
     "execution_count": 98
    }
   ],
   "metadata": {}
  },
  {
   "cell_type": "code",
   "execution_count": null,
   "source": [],
   "outputs": [],
   "metadata": {}
  }
 ],
 "metadata": {
  "orig_nbformat": 4,
  "language_info": {
   "name": "python",
   "version": "3.8.11",
   "mimetype": "text/x-python",
   "codemirror_mode": {
    "name": "ipython",
    "version": 3
   },
   "pygments_lexer": "ipython3",
   "nbconvert_exporter": "python",
   "file_extension": ".py"
  },
  "kernelspec": {
   "name": "python3",
   "display_name": "Python 3.8.11 64-bit ('dsenv': conda)"
  },
  "interpreter": {
   "hash": "abefd23fc6de9c1f295573c00878ba5309f9f2bfd47d3bc7060c4a33fda753de"
  }
 },
 "nbformat": 4,
 "nbformat_minor": 2
}